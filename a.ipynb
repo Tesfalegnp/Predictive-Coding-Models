{
 "cells": [
  {
   "cell_type": "code",
   "execution_count": 1,
   "id": "47c27f3f",
   "metadata": {},
   "outputs": [],
   "source": [
    "\n",
    "import numpy as np\n",
    "import torch\n",
    "import torch.nn.functional as F\n",
    "from torchvision import datasets, transforms\n",
    "from torch.utils.data import DataLoader\n",
    "import matplotlib.pyplot as plt"
   ]
  },
  {
   "cell_type": "code",
   "execution_count": 2,
   "id": "2f56dda2",
   "metadata": {},
   "outputs": [
    {
     "name": "stderr",
     "output_type": "stream",
     "text": [
      "100.0%\n",
      "100.0%\n",
      "100.0%\n",
      "100.0%\n"
     ]
    }
   ],
   "source": [
    "\n",
    "# Download and load MNIST dataset\n",
    "transform = transforms.Compose([transforms.ToTensor()])\n",
    "train_dataset = datasets.MNIST(root='./data', train=True, download=True, transform=transform)\n",
    "test_dataset = datasets.MNIST(root='./data', train=False, download=True, transform=transform)\n",
    "\n",
    "# Use a smaller subset for faster training (for demonstration)\n",
    "train_loader = DataLoader(train_dataset, batch_size=64, shuffle=True)\n",
    "test_loader = DataLoader(test_dataset, batch_size=1000, shuffle=False)"
   ]
  },
  {
   "cell_type": "code",
   "execution_count": null,
   "id": "ce86dc87",
   "metadata": {},
   "outputs": [],
   "source": [
    "\n",
    "class PredictiveCodingModel:\n",
    "    def __init__(self, input_size=784, hidden_size=256, output_size=10, lr=1e-3):\n",
    "        # Feedforward weights\n",
    "        self.W1 = np.random.randn(hidden_size, input_size) * 0.1\n",
    "        self.W2 = np.random.randn(output_size, hidden_size) * 0.1\n",
    "        # Lateral weights (hidden layer)\n",
    "        self.L1 = np.eye(hidden_size) * 0.01  # Small lateral weights\n",
    "        # States\n",
    "        self.x1 = np.zeros((hidden_size, 1))\n",
    "        self.x2 = np.zeros((output_size, 1))\n",
    "        # Learning rate\n",
    "        self.lr = lr\n",
    "\n",
    "    def sigmoid(self, x):\n",
    "        return 1 / (1 + np.exp(-x))\n",
    "\n",
    "    def softmax(self, x):\n",
    "        e_x = np.exp(x - np.max(x))\n",
    "        return e_x / e_x.sum(axis=0, keepdims=True)\n",
    "\n",
    "    def forward(self, x0):\n",
    "        # x0: input (784, 1)\n",
    "        # Predict hidden state\n",
    "        pred_x1 = self.sigmoid(self.W1 @ x0 + self.L1 @ self.x1)\n",
    "        # Predict output\n",
    "        pred_x2 = self.softmax(self.W2 @ pred_x1)\n",
    "        return pred_x1, pred_x2\n",
    "\n",
    "    def compute_errors(self, x0, x1, x2, y):\n",
    "        # Prediction errors\n",
    "        e0 = x0 - self.W1.T @ x1  # Input error\n",
    "        e1 = x1 - self.sigmoid(self.W1 @ x0 + self.L1 @ x1)  # Hidden error\n",
    "        e2 = x2 - y  # Output error (y is one-hot)\n",
    "        return e0, e1, e2\n",
    "\n",
    "    def update_states(self, x0, x1, x2, y, e0, e1, e2):\n",
    "        # Update hidden state (x1)\n",
    "        dx1 = self.W1 @ e0 + self.L1 @ e1 - e1\n",
    "        x1 += self.lr * dx1\n",
    "        # Update output state (x2)\n",
    "        dx2 = -e2\n",
    "        x2 += self.lr * dx2\n",
    "        return x1, x2\n",
    "\n",
    "    def update_weights(self, x0, x1, x2, e0, e1, e2):\n",
    "        # Update feedforward weights\n",
    "        self.W1 += self.lr * (np.outer(e1, x0))\n",
    "        self.W2 += self.lr * (np.outer(e2, x1))\n",
    "        # Update lateral weights (hidden)\n",
    "        self.L1 += self.lr * (np.outer(e1, x1))\n",
    "\n",
    "    def predict(self, x0):\n",
    "        x1 = self.sigmoid(self.W1 @ x0 + self.L1 @ np.zeros_like(self.x1))\n",
    "        x2 = self.softmax(self.W2 @ x1)\n",
    "        return np.argmax(x2)"
   ]
  }
 ],
 "metadata": {
  "kernelspec": {
   "display_name": "venv",
   "language": "python",
   "name": "python3"
  },
  "language_info": {
   "codemirror_mode": {
    "name": "ipython",
    "version": 3
   },
   "file_extension": ".py",
   "mimetype": "text/x-python",
   "name": "python",
   "nbconvert_exporter": "python",
   "pygments_lexer": "ipython3",
   "version": "3.12.3"
  }
 },
 "nbformat": 4,
 "nbformat_minor": 5
}
