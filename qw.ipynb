{
 "cells": [
  {
   "cell_type": "code",
   "execution_count": 1,
   "id": "2c3398f1",
   "metadata": {},
   "outputs": [
    {
     "name": "stderr",
     "output_type": "stream",
     "text": [
      "2025-06-18 16:20:50.655106: E external/local_xla/xla/stream_executor/cuda/cuda_fft.cc:467] Unable to register cuFFT factory: Attempting to register factory for plugin cuFFT when one has already been registered\n",
      "WARNING: All log messages before absl::InitializeLog() is called are written to STDERR\n",
      "E0000 00:00:1750252850.727528   12786 cuda_dnn.cc:8579] Unable to register cuDNN factory: Attempting to register factory for plugin cuDNN when one has already been registered\n",
      "E0000 00:00:1750252850.747942   12786 cuda_blas.cc:1407] Unable to register cuBLAS factory: Attempting to register factory for plugin cuBLAS when one has already been registered\n",
      "W0000 00:00:1750252850.797940   12786 computation_placer.cc:177] computation placer already registered. Please check linkage and avoid linking the same target more than once.\n",
      "W0000 00:00:1750252850.798004   12786 computation_placer.cc:177] computation placer already registered. Please check linkage and avoid linking the same target more than once.\n",
      "W0000 00:00:1750252850.798011   12786 computation_placer.cc:177] computation placer already registered. Please check linkage and avoid linking the same target more than once.\n",
      "W0000 00:00:1750252850.798016   12786 computation_placer.cc:177] computation placer already registered. Please check linkage and avoid linking the same target more than once.\n",
      "2025-06-18 16:20:50.811990: I tensorflow/core/platform/cpu_feature_guard.cc:210] This TensorFlow binary is optimized to use available CPU instructions in performance-critical operations.\n",
      "To enable the following instructions: AVX2 FMA, in other operations, rebuild TensorFlow with the appropriate compiler flags.\n"
     ]
    },
    {
     "name": "stdout",
     "output_type": "stream",
     "text": [
      "Data shapes:\n",
      "Train images: (10000, 784)\n",
      "Train labels: (10000, 10)\n",
      "Test images: (10000, 784)\n"
     ]
    }
   ],
   "source": [
    "import numpy as np\n",
    "import matplotlib.pyplot as plt\n",
    "from tensorflow.keras.datasets import mnist\n",
    "from sklearn.preprocessing import MinMaxScaler\n",
    "from sklearn.metrics import accuracy_score\n",
    "\n",
    "# Load MNIST data\n",
    "(X_train, y_train), (X_test, y_test) = mnist.load_data()\n",
    "\n",
    "def preprocess_data(X, y, n_samples=None):\n",
    "    if n_samples is not None:\n",
    "        X = X[:n_samples]\n",
    "        y = y[:n_samples]\n",
    "\n",
    "    # Flatten images from (num_samples, 28, 28) -> (num_samples, 784)\n",
    "    X_flat = X.reshape(X.shape[0], -1).astype('float32')\n",
    "\n",
    "    # Normalize pixel values to [0,1]\n",
    "    X_norm = MinMaxScaler().fit_transform(X_flat)\n",
    "\n",
    "    # One-hot encode labels\n",
    "    y_onehot = np.zeros((len(y), 10))\n",
    "    y_onehot[np.arange(len(y)), y] = 1\n",
    "\n",
    "    return X_norm, y_onehot\n",
    "\n",
    "# Use only 10,000 samples for faster training\n",
    "X_train_prep, y_train_prep = preprocess_data(X_train, y_train, n_samples=10000)\n",
    "X_test_prep, y_test_prep = preprocess_data(X_test, y_test)\n",
    "\n",
    "print(\"Data shapes:\")\n",
    "print(\"Train images:\", X_train_prep.shape)\n",
    "print(\"Train labels:\", y_train_prep.shape)\n",
    "print(\"Test images:\", X_test_prep.shape)"
   ]
  },
  {
   "cell_type": "code",
   "execution_count": 2,
   "id": "8867a3df",
   "metadata": {},
   "outputs": [],
   "source": [
    "class PredictiveCodingModel:\n",
    "    def __init__(self, layer_sizes=[784, 256, 10], learning_rate=0.001, n_iterations=5):\n",
    "        self.layer_sizes = layer_sizes\n",
    "        self.learning_rate = learning_rate\n",
    "        self.n_iterations = n_iterations\n",
    "        \n",
    "        # Initialize weights using He initialization\n",
    "        self.weights = []\n",
    "        for i in range(len(layer_sizes)-1):\n",
    "            std = np.sqrt(2. / layer_sizes[i])\n",
    "            self.weights.append(np.random.normal(0, std, (layer_sizes[i+1], layer_sizes[i])))\n",
    "        \n",
    "        # Initialize lateral connections (between same-layer features)\n",
    "        self.lateral_weights = []\n",
    "        for size in layer_sizes[1:]:\n",
    "            self.lateral_weights.append(0.01 * np.random.randn(size, size))\n",
    "    \n",
    "    def sigmoid(self, x):\n",
    "        \"\"\"Numerically stable sigmoid function\"\"\"\n",
    "        return np.where(x >= 0, \n",
    "                        1 / (1 + np.exp(-x)), \n",
    "                        np.exp(x) / (1 + np.exp(x)))\n",
    "    \n",
    "    def sigmoid_derivative(self, x):\n",
    "        \"\"\"Derivative of sigmoid used in gradient computation\"\"\"\n",
    "        return np.clip(x * (1 - x), 1e-8, 1)\n",
    "    \n",
    "    def forward_pass(self, x):\n",
    "        \"\"\"Compute predictions at each layer given current activity\"\"\"\n",
    "        layer_predictions = []\n",
    "        current_activity = x\n",
    "        \n",
    "        for i in range(len(self.weights)):\n",
    "            prediction = self.sigmoid(np.dot(self.weights[i], current_activity))\n",
    "            layer_predictions.append(prediction)\n",
    "            current_activity = prediction\n",
    "        \n",
    "        return layer_predictions\n",
    "    \n",
    "    def update_states_and_weights(self, x, y, verbose=False):\n",
    "        \"\"\"\n",
    "        Update internal states and weights based on prediction errors\n",
    "        If verbose=True, prints layer-wise info\n",
    "        \"\"\"\n",
    "        # Initial states (input + predictions)\n",
    "        states = [x.copy()]\n",
    "        predictions = self.forward_pass(x)\n",
    "        states.extend(predictions)\n",
    "        states[-1] = y.copy()  # Ground truth for final layer\n",
    "\n",
    "        # Initialize prediction errors\n",
    "        errors = [np.zeros_like(s) for s in states]\n",
    "\n",
    "        # Iteratively refine states\n",
    "        for iter_num in range(self.n_iterations):\n",
    "            # Top-down error propagation\n",
    "            for l in reversed(range(1, len(states))):\n",
    "                if l == len(states) - 1:\n",
    "                    errors[l] = states[l] - predictions[l-1]\n",
    "                else:\n",
    "                    error_from_above = np.dot(self.weights[l].T, errors[l+1])\n",
    "                    lateral_error = np.dot(self.lateral_weights[l-1], errors[l])\n",
    "                    errors[l] = error_from_above + 0.1 * lateral_error - (states[l] - predictions[l-1])\n",
    "\n",
    "                # State update\n",
    "                delta_state = 0.1 * self.learning_rate * np.clip(errors[l], -10, 10)\n",
    "                if l > 0:\n",
    "                    delta_state *= self.sigmoid_derivative(states[l])\n",
    "                states[l] += delta_state\n",
    "            \n",
    "            # Recompute predictions after updating states\n",
    "            for l in range(len(self.weights)):\n",
    "                predictions[l] = self.sigmoid(np.dot(self.weights[l], states[l]))\n",
    "            \n",
    "            if verbose and iter_num == self.n_iterations - 1:\n",
    "                print(f\"\\n--- Final Iteration Updates ---\")\n",
    "                for l in range(len(states)):\n",
    "                    print(f\"Layer {l} | State shape: {states[l].shape} | Error norm: {np.linalg.norm(errors[l]):.4f}\")\n",
    "                for l in range(len(self.weights)):\n",
    "                    print(f\"Weight {l} shape: {self.weights[l].shape}\")\n",
    "\n",
    "        # Update weights using prediction errors\n",
    "        for l in range(len(self.weights)):\n",
    "            grad_weight = np.outer(\n",
    "                np.clip(errors[l+1], -5, 5) * self.sigmoid_derivative(states[l+1]), \n",
    "                states[l]\n",
    "            )\n",
    "            self.weights[l] += self.learning_rate * np.clip(grad_weight, -0.1, 0.1)\n",
    "            \n",
    "            if l > 0:\n",
    "                grad_lateral = np.outer(\n",
    "                    np.clip(errors[l], -5, 5), \n",
    "                    np.clip(errors[l], -5, 5)\n",
    "                )\n",
    "                self.lateral_weights[l-1] += 0.01 * self.learning_rate * grad_lateral\n",
    "\n",
    "        return predictions, errors\n",
    "\n",
    "    def train(self, X, y, epochs=5, batch_size=32, display_interval=1):\n",
    "        n_samples = X.shape[0]\n",
    "        print(f\"Training on {n_samples} samples for {epochs} epochs...\")\n",
    "        \n",
    "        for epoch in range(epochs):\n",
    "            permutation = np.random.permutation(n_samples)\n",
    "            X_shuffled = X[permutation]\n",
    "            y_shuffled = y[permutation]\n",
    "            \n",
    "            epoch_loss = 0\n",
    "            correct = 0\n",
    "            \n",
    "            for i in range(0, n_samples, batch_size):\n",
    "                batch_X = X_shuffled[i:i+batch_size]\n",
    "                batch_y = y_shuffled[i:i+batch_size]\n",
    "                \n",
    "                batch_loss = 0\n",
    "                batch_correct = 0\n",
    "                \n",
    "                for j in range(batch_X.shape[0]):\n",
    "                    predictions, errors = self.update_states_and_weights(batch_X[j], batch_y[j])\n",
    "                    \n",
    "                    # L2 regularization\n",
    "                    reg_loss = sum(0.001 * np.sum(w**2) for w in self.weights)\n",
    "                    loss = 0.5 * np.sum(errors[-1]**2) + reg_loss\n",
    "                    batch_loss += loss\n",
    "                    \n",
    "                    predicted_class = np.argmax(predictions[-1])\n",
    "                    true_class = np.argmax(batch_y[j])\n",
    "                    if predicted_class == true_class:\n",
    "                        batch_correct += 1\n",
    "                \n",
    "                epoch_loss += batch_loss / batch_size\n",
    "                correct += batch_correct\n",
    "            \n",
    "            accuracy = correct / n_samples\n",
    "            if (epoch + 1) % display_interval == 0 or epoch == 0:\n",
    "                print(f\"Epoch {epoch+1}/{epochs}, Loss: {epoch_loss/n_samples:.4f}, Accuracy: {accuracy:.4f}\")\n",
    "    \n",
    "    def predict(self, X):\n",
    "        predictions = []\n",
    "        for x in X:\n",
    "            pred = self.forward_pass(x)[-1]\n",
    "            predictions.append(pred)\n",
    "        return np.array(predictions)"
   ]
  },
  {
   "cell_type": "code",
   "execution_count": null,
   "id": "fac4ccb2",
   "metadata": {},
   "outputs": [
    {
     "name": "stdout",
     "output_type": "stream",
     "text": [
      "Training on 10000 samples for 5 epochs...\n",
      "Epoch 1/5, Loss: 0.0325, Accuracy: 0.3921\n",
      "Epoch 2/5, Loss: 0.0289, Accuracy: 0.6853\n",
      "Epoch 3/5, Loss: 0.0280, Accuracy: 0.7435\n",
      "Epoch 4/5, Loss: 0.0276, Accuracy: 0.7754\n",
      "Epoch 5/5, Loss: 0.0275, Accuracy: 0.7964\n"
     ]
    }
   ],
   "source": [
    "# Initialize the model\n",
    "pc_model = PredictiveCodingModel(layer_sizes=[784, 256, 10], learning_rate=0.001, n_iterations=5)\n",
    "\n",
    "# Train the model\n",
    "pc_model.train(X_train_prep, y_train_prep, epochs=15, batch_size=32, display_interval=1)"
   ]
  },
  {
   "cell_type": "code",
   "execution_count": 4,
   "id": "fc48f47b",
   "metadata": {},
   "outputs": [
    {
     "name": "stdout",
     "output_type": "stream",
     "text": [
      "\n",
      "Test Accuracy: 0.7978\n"
     ]
    }
   ],
   "source": [
    "# Predict on test set\n",
    "y_pred_probs = pc_model.predict(X_test_prep)\n",
    "y_pred = np.argmax(y_pred_probs, axis=1)\n",
    "y_true = np.argmax(y_test_prep, axis=1)\n",
    "\n",
    "# Compute accuracy\n",
    "test_accuracy = accuracy_score(y_true, y_pred)\n",
    "print(f\"\\nTest Accuracy: {test_accuracy:.4f}\")"
   ]
  },
  {
   "cell_type": "code",
   "execution_count": 5,
   "id": "ccfefa5a",
   "metadata": {},
   "outputs": [
    {
     "name": "stdout",
     "output_type": "stream",
     "text": [
      "\n",
      "--- Final Iteration Updates ---\n",
      "Layer 0 | State shape: (784,) | Error norm: 0.0000\n",
      "Layer 1 | State shape: (256,) | Error norm: 0.7723\n",
      "Layer 2 | State shape: (10,) | Error norm: 0.5381\n",
      "Weight 0 shape: (256, 784)\n",
      "Weight 1 shape: (10, 256)\n",
      "\n",
      "Layer 1 Prediction Shape: (256,)\n",
      "Prediction: [0.93066799 0.9015821  0.74255974 0.11018316 0.1027902 ]...\n",
      "Error: [ 2.57582054e-02  8.95227338e-06  5.67341486e-03 -9.80899872e-02\n",
      " -1.41856041e-02]...\n",
      "Weights incoming: (256, 784)\n",
      "\n",
      "Layer 2 Prediction Shape: (10,)\n",
      "Prediction: [0.09068332 0.04077914 0.13070352 0.17257048 0.12498988]...\n",
      "Error: [-0.09069008 -0.04077358 -0.13072832 -0.17260915 -0.12501547]...\n",
      "Weights incoming: (10, 256)\n"
     ]
    }
   ],
   "source": [
    "# Pick one sample\n",
    "sample_index = 0\n",
    "x_sample = X_test_prep[sample_index]\n",
    "y_sample = y_test_prep[sample_index]\n",
    "\n",
    "# Run inference with verbose mode to see internals\n",
    "_, errors = pc_model.update_states_and_weights(x_sample, y_sample, verbose=True)\n",
    "\n",
    "# Reconstruct predictions\n",
    "predictions = pc_model.forward_pass(x_sample)\n",
    "\n",
    "# Print details per layer\n",
    "for l in range(len(predictions)):\n",
    "    print(f\"\\nLayer {l+1} Prediction Shape: {predictions[l].shape}\")\n",
    "    print(f\"Prediction: {predictions[l][:5]}...\")  # Show first 5\n",
    "    print(f\"Error: {errors[l+1][:5]}...\")\n",
    "    print(f\"Weights incoming: {pc_model.weights[l].shape}\")"
   ]
  },
  {
   "cell_type": "code",
   "execution_count": 6,
   "id": "3989c92b",
   "metadata": {},
   "outputs": [
    {
     "data": {
      "image/png": "[encoded data removed]",
      "text/plain": [
       "<Figure size 640x480 with 1 Axes>"
      ]
     },
     "metadata": {},
     "output_type": "display_data"
    },
    {
     "data": {
      "image/png": "[encoded data removed]",
      "text/plain": [
       "<Figure size 640x480 with 1 Axes>"
      ]
     },
     "metadata": {},
     "output_type": "display_data"
    }
   ],
   "source": [
    "def plot_image(img, title=\"\"):\n",
    "    plt.imshow(img.reshape(28, 28), cmap='gray')\n",
    "    plt.title(title)\n",
    "    plt.axis('off')\n",
    "    plt.show()\n",
    "\n",
    "# Original image\n",
    "plot_image(x_sample, \"Original Image\")\n",
    "\n",
    "# Reconstructed image from first layer (decoder-style)\n",
    "first_layer_reconstruction = pc_model.weights[0].T @ predictions[0]\n",
    "plot_image(first_layer_reconstruction, \"Reconstructed from Layer 1\")"
   ]
  }
 ],
 "metadata": {
  "kernelspec": {
   "display_name": "venv",
   "language": "python",
   "name": "python3"
  },
  "language_info": {
   "codemirror_mode": {
    "name": "ipython",
    "version": 3
   },
   "file_extension": ".py",
   "mimetype": "text/x-python",
   "name": "python",
   "nbconvert_exporter": "python",
   "pygments_lexer": "ipython3",
   "version": "3.12.3"
  }
 },
 "nbformat": 4,
 "nbformat_minor": 5
}
